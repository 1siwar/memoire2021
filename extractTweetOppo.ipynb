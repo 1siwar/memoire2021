{
 "cells": [
  {
   "cell_type": "code",
   "execution_count": 1,
   "metadata": {},
   "outputs": [],
   "source": [
    "#extract tweet Oppo\n",
    "import tweepy\n",
    "import csv #Import csv\n",
    "consumer_key = 'knzNuBHfa8rliI2GKdTL6PZj0'\n",
    "consumer_secret = 'czETNn82J6oAGFVcopRAgXrGiSj79tpoG5Z2e5D3imP8FmCIxQ'\n",
    "access_key = '1362764267703971844-WJDoNUU050ztwmcjXVgKibM14GKZ50'\n",
    "access_secret = 'Fubi6LGI1jX8vdW8fTfdDPI1fHa1N9JwdK1dAlUAfQpz7'\n",
    "# Handling authentication with Twitter\n",
    "auth = tweepy.OAuthHandler(consumer_key, consumer_secret)\n",
    "auth.set_access_token(access_key, access_secret)\n",
    "\n",
    "api = tweepy.API(auth,wait_on_rate_limit=True)\n",
    "\n",
    "# Open/create a file to append data to\n",
    "csvFile = open('oppo1.csv', 'a')\n",
    "\n",
    "#Use csv writer\n",
    "csvWriter = csv.writer(csvFile)\n",
    "\n",
    "for tweet in tweepy.Cursor(api.search,\n",
    "                           q = \"Oppo\",\n",
    "                           since = \"2021-03-01\",\n",
    "                           until = \"2021-03-31\",\n",
    "                           lang = \"en\").items():\n",
    "\n",
    "    # Write a row to the CSV file. I use encode UTF-8\n",
    "    csvWriter.writerow([tweet.created_at, tweet.text.encode('utf-8')])\n",
    "    print (tweet.created_at, tweet.text)\n",
    "csvFile.close()"
   ]
  },
  {
   "cell_type": "code",
   "execution_count": null,
   "metadata": {},
   "outputs": [],
   "source": []
  }
 ],
 "metadata": {
  "kernelspec": {
   "display_name": "Python 3",
   "language": "python",
   "name": "python3"
  },
  "language_info": {
   "codemirror_mode": {
    "name": "ipython",
    "version": 3
   },
   "file_extension": ".py",
   "mimetype": "text/x-python",
   "name": "python",
   "nbconvert_exporter": "python",
   "pygments_lexer": "ipython3",
   "version": "3.7.4"
  }
 },
 "nbformat": 4,
 "nbformat_minor": 2
}
