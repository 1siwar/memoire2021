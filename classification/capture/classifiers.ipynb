{
 "cells": [
  {
   "cell_type": "code",
   "execution_count": 1,
   "metadata": {},
   "outputs": [],
   "source": [
    "# Before we begin, we supress deprecation warnings resulting from nltk on Kaggle\n",
    "import warnings\n",
    "warnings.filterwarnings(\"ignore\", category=DeprecationWarning) "
   ]
  },
  {
   "cell_type": "code",
   "execution_count": 2,
   "metadata": {},
   "outputs": [
    {
     "data": {
      "text/plain": [
       "['Unnamed: 0',\n",
       " 'date',\n",
       " 'text',\n",
       " 'Comment',\n",
       " 'Word_Tok',\n",
       " 'CommentAferPreproc',\n",
       " 'sentiment']"
      ]
     },
     "execution_count": 2,
     "metadata": {},
     "output_type": "execute_result"
    }
   ],
   "source": [
    "import pandas as pd\n",
    "tweets = pd.read_csv(\"C:/Users/pk/Desktop/projet/analyse/out_data/TweetIphone.csv\")\n",
    "list(tweets.columns.values)"
   ]
  },
  {
   "cell_type": "code",
   "execution_count": 3,
   "metadata": {},
   "outputs": [
    {
     "data": {
      "text/html": [
       "<div>\n",
       "<style scoped>\n",
       "    .dataframe tbody tr th:only-of-type {\n",
       "        vertical-align: middle;\n",
       "    }\n",
       "\n",
       "    .dataframe tbody tr th {\n",
       "        vertical-align: top;\n",
       "    }\n",
       "\n",
       "    .dataframe thead th {\n",
       "        text-align: right;\n",
       "    }\n",
       "</style>\n",
       "<table border=\"1\" class=\"dataframe\">\n",
       "  <thead>\n",
       "    <tr style=\"text-align: right;\">\n",
       "      <th></th>\n",
       "      <th>Unnamed: 0</th>\n",
       "      <th>date</th>\n",
       "      <th>text</th>\n",
       "      <th>Comment</th>\n",
       "      <th>Word_Tok</th>\n",
       "      <th>CommentAferPreproc</th>\n",
       "      <th>sentiment</th>\n",
       "    </tr>\n",
       "  </thead>\n",
       "  <tbody>\n",
       "    <tr>\n",
       "      <td>0</td>\n",
       "      <td>0</td>\n",
       "      <td>2021-04-01 23:59:32</td>\n",
       "      <td>b\"RT @_PLICE: \\xf0\\x9f\\xa4\\xa3\\xf0\\x9f\\xa4\\xa3...</td>\n",
       "      <td>b\"rt @_plice: \\xf0\\x9f\\xa4\\xa3\\xf0\\x9f\\xa4\\xa3...</td>\n",
       "      <td>['b', 'rt', '_plice', 'xf0', 'x9f', 'xa4', 'xa...</td>\n",
       "      <td>b rt _plice xf0 x9f xa4 xa3 xf0 x9f xa4 xa3 xf...</td>\n",
       "      <td>Neutral</td>\n",
       "    </tr>\n",
       "    <tr>\n",
       "      <td>1</td>\n",
       "      <td>1</td>\n",
       "      <td>2021-04-01 23:59:32</td>\n",
       "      <td>b'RT @twinkologian: sza the type to say she go...</td>\n",
       "      <td>b'rt @twinkologian: sza the type to say she go...</td>\n",
       "      <td>['b', 'rt', 'twinkologian', 'sza', 'the', 'typ...</td>\n",
       "      <td>b rt twinkologian sza type say got iphone 15 x...</td>\n",
       "      <td>Neutral</td>\n",
       "    </tr>\n",
       "    <tr>\n",
       "      <td>2</td>\n",
       "      <td>2</td>\n",
       "      <td>2021-04-01 23:59:29</td>\n",
       "      <td>b'Check out this product from the Apple Store:...</td>\n",
       "      <td>b'check out this product from the apple store:...</td>\n",
       "      <td>['b', 'check', 'out', 'this', 'product', 'from...</td>\n",
       "      <td>b check product apple store n nhttps co xozusg...</td>\n",
       "      <td>Neutral</td>\n",
       "    </tr>\n",
       "    <tr>\n",
       "      <td>3</td>\n",
       "      <td>3</td>\n",
       "      <td>2021-04-01 23:59:28</td>\n",
       "      <td>b'I\\xe2\\x80\\x99ve had a great birthday so far!...</td>\n",
       "      <td>b'i\\xe2\\x80\\x99ve had a great birthday so far!...</td>\n",
       "      <td>['b', 'i', 'xe2', 'x80', 'x99ve', 'had', 'a', ...</td>\n",
       "      <td>b xe2 x80 x99ve great birthday far mom delicio...</td>\n",
       "      <td>Positive</td>\n",
       "    </tr>\n",
       "    <tr>\n",
       "      <td>4</td>\n",
       "      <td>4</td>\n",
       "      <td>2021-04-01 23:59:21</td>\n",
       "      <td>b'I go on vacation for the first time in well ...</td>\n",
       "      <td>b'i go on vacation for the first time in well ...</td>\n",
       "      <td>['b', 'i', 'go', 'on', 'vacation', 'for', 'the...</td>\n",
       "      <td>b go vacation first time well year think would...</td>\n",
       "      <td>Positive</td>\n",
       "    </tr>\n",
       "  </tbody>\n",
       "</table>\n",
       "</div>"
      ],
      "text/plain": [
       "   Unnamed: 0                 date  \\\n",
       "0           0  2021-04-01 23:59:32   \n",
       "1           1  2021-04-01 23:59:32   \n",
       "2           2  2021-04-01 23:59:29   \n",
       "3           3  2021-04-01 23:59:28   \n",
       "4           4  2021-04-01 23:59:21   \n",
       "\n",
       "                                                text  \\\n",
       "0  b\"RT @_PLICE: \\xf0\\x9f\\xa4\\xa3\\xf0\\x9f\\xa4\\xa3...   \n",
       "1  b'RT @twinkologian: sza the type to say she go...   \n",
       "2  b'Check out this product from the Apple Store:...   \n",
       "3  b'I\\xe2\\x80\\x99ve had a great birthday so far!...   \n",
       "4  b'I go on vacation for the first time in well ...   \n",
       "\n",
       "                                             Comment  \\\n",
       "0  b\"rt @_plice: \\xf0\\x9f\\xa4\\xa3\\xf0\\x9f\\xa4\\xa3...   \n",
       "1  b'rt @twinkologian: sza the type to say she go...   \n",
       "2  b'check out this product from the apple store:...   \n",
       "3  b'i\\xe2\\x80\\x99ve had a great birthday so far!...   \n",
       "4  b'i go on vacation for the first time in well ...   \n",
       "\n",
       "                                            Word_Tok  \\\n",
       "0  ['b', 'rt', '_plice', 'xf0', 'x9f', 'xa4', 'xa...   \n",
       "1  ['b', 'rt', 'twinkologian', 'sza', 'the', 'typ...   \n",
       "2  ['b', 'check', 'out', 'this', 'product', 'from...   \n",
       "3  ['b', 'i', 'xe2', 'x80', 'x99ve', 'had', 'a', ...   \n",
       "4  ['b', 'i', 'go', 'on', 'vacation', 'for', 'the...   \n",
       "\n",
       "                                  CommentAferPreproc sentiment  \n",
       "0  b rt _plice xf0 x9f xa4 xa3 xf0 x9f xa4 xa3 xf...   Neutral  \n",
       "1  b rt twinkologian sza type say got iphone 15 x...   Neutral  \n",
       "2  b check product apple store n nhttps co xozusg...   Neutral  \n",
       "3  b xe2 x80 x99ve great birthday far mom delicio...  Positive  \n",
       "4  b go vacation first time well year think would...  Positive  "
      ]
     },
     "execution_count": 3,
     "metadata": {},
     "output_type": "execute_result"
    }
   ],
   "source": [
    "tweets.head()"
   ]
  },
  {
   "cell_type": "code",
   "execution_count": 4,
   "metadata": {},
   "outputs": [
    {
     "name": "stdout",
     "output_type": "stream",
     "text": [
      "Neutral     4981\n",
      "Positive    3479\n",
      "Negative    1771\n",
      "Name: sentiment, dtype: int64\n"
     ]
    }
   ],
   "source": [
    "sentiment_counts = tweets.sentiment.value_counts()\n",
    "print(sentiment_counts)"
   ]
  },
  {
   "cell_type": "code",
   "execution_count": 5,
   "metadata": {},
   "outputs": [],
   "source": [
    "import numpy as np\n",
    "from scipy.sparse import hstack\n",
    "from sklearn.feature_extraction.text import CountVectorizer\n",
    "count_vectorizer = CountVectorizer(ngram_range=(1,2))"
   ]
  },
  {
   "cell_type": "code",
   "execution_count": 6,
   "metadata": {},
   "outputs": [],
   "source": [
    "vectorized_data = count_vectorizer.fit_transform(tweets.text)\n",
    "indexed_data = hstack((np.array(range(0,vectorized_data.shape[0]))[:,None], vectorized_data))"
   ]
  },
  {
   "cell_type": "code",
   "execution_count": 7,
   "metadata": {},
   "outputs": [],
   "source": [
    "def sentiment2target(sentiment):\n",
    "    return {\n",
    "        'Negative': 0,\n",
    "        'Neutral': 1,\n",
    "        'Positive' : 2\n",
    "    }[sentiment]\n",
    "targets = tweets.sentiment.apply(sentiment2target)"
   ]
  },
  {
   "cell_type": "code",
   "execution_count": 8,
   "metadata": {},
   "outputs": [],
   "source": [
    "from sklearn.model_selection import train_test_split\n",
    "data_train, data_test, targets_train, targets_test = train_test_split(indexed_data, targets, test_size=0.4, random_state=0)\n",
    "data_train_index = data_train[:,0]\n",
    "data_train = data_train[:,1:]\n",
    "data_test_index = data_test[:,0]\n",
    "data_test = data_test[:,1:]"
   ]
  },
  {
   "cell_type": "markdown",
   "metadata": {},
   "source": [
    "# SVM Model"
   ]
  },
  {
   "cell_type": "code",
   "execution_count": 10,
   "metadata": {},
   "outputs": [
    {
     "name": "stdout",
     "output_type": "stream",
     "text": [
      "94.01%\n"
     ]
    }
   ],
   "source": [
    "from sklearn import svm\n",
    "from sklearn import metrics\n",
    "from sklearn.multiclass import OneVsRestClassifier\n",
    "clf = OneVsRestClassifier(svm.SVC(gamma=0.01, C=100., probability=True, class_weight='balanced', kernel='linear'))\n",
    "clf_output = clf.fit(data_train, targets_train)\n",
    "clf.score(data_test, targets_test)\n",
    "pre=clf.predict(data_test)\n",
    "acc=metrics.accuracy_score(pre, targets_test)\n",
    "print(str(\"{:04.2f}\".format(acc*100))+'%')"
   ]
  },
  {
   "cell_type": "markdown",
   "metadata": {},
   "source": [
    "# Naive bayes Model "
   ]
  },
  {
   "cell_type": "code",
   "execution_count": 11,
   "metadata": {},
   "outputs": [
    {
     "name": "stdout",
     "output_type": "stream",
     "text": [
      "89.76%\n"
     ]
    }
   ],
   "source": [
    "from sklearn.naive_bayes import MultinomialNB\n",
    "mnb=MultinomialNB()\n",
    "mnb.fit(data_train,targets_train)\n",
    "preticted=mnb.predict(data_test)\n",
    "accuracy=metrics.accuracy_score(preticted, targets_test)\n",
    "print(str(\"{:04.2f}\".format(accuracy*100))+'%')"
   ]
  },
  {
   "cell_type": "markdown",
   "metadata": {},
   "source": [
    "# Decision tree Model "
   ]
  },
  {
   "cell_type": "code",
   "execution_count": 12,
   "metadata": {},
   "outputs": [
    {
     "name": "stdout",
     "output_type": "stream",
     "text": [
      "92.13%\n"
     ]
    }
   ],
   "source": [
    "from sklearn.tree import DecisionTreeClassifier\n",
    "dt=DecisionTreeClassifier()\n",
    "dt.fit(data_train,targets_train)\n",
    "preticted3=dt.predict(data_test)\n",
    "accuracy3=metrics.accuracy_score(preticted3, targets_test)\n",
    "print(str(\"{:04.2f}\".format(accuracy3*100))+'%')"
   ]
  },
  {
   "cell_type": "markdown",
   "metadata": {},
   "source": [
    "# Model Random Forest"
   ]
  },
  {
   "cell_type": "code",
   "execution_count": 13,
   "metadata": {},
   "outputs": [
    {
     "name": "stdout",
     "output_type": "stream",
     "text": [
      "90.89%\n"
     ]
    }
   ],
   "source": [
    "from sklearn.ensemble import RandomForestClassifier\n",
    "rf=RandomForestClassifier(n_estimators=40)\n",
    "rf.fit(data_train,targets_train)\n",
    "preticted4=rf.predict(data_test)\n",
    "accuracy4=metrics.accuracy_score(preticted4, targets_test)\n",
    "print(str(\"{:04.2f}\".format(accuracy4*100))+'%')"
   ]
  },
  {
   "cell_type": "code",
   "execution_count": null,
   "metadata": {},
   "outputs": [],
   "source": []
  }
 ],
 "metadata": {
  "kernelspec": {
   "display_name": "Python 3",
   "language": "python",
   "name": "python3"
  },
  "language_info": {
   "codemirror_mode": {
    "name": "ipython",
    "version": 3
   },
   "file_extension": ".py",
   "mimetype": "text/x-python",
   "name": "python",
   "nbconvert_exporter": "python",
   "pygments_lexer": "ipython3",
   "version": "3.7.4"
  }
 },
 "nbformat": 4,
 "nbformat_minor": 2
}
