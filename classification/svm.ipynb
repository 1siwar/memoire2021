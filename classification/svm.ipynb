{
 "cells": [
  {
   "cell_type": "code",
   "execution_count": 1,
   "metadata": {},
   "outputs": [],
   "source": [
    "# Before we begin, we supress deprecation warnings resulting from nltk on Kaggle\n",
    "import warnings\n",
    "warnings.filterwarnings(\"ignore\", category=DeprecationWarning) "
   ]
  },
  {
   "cell_type": "code",
   "execution_count": 2,
   "metadata": {},
   "outputs": [
    {
     "data": {
      "text/plain": [
       "['Unnamed: 0',\n",
       " 'date',\n",
       " 'text',\n",
       " 'Comment',\n",
       " 'Word_Tok',\n",
       " 'CommentAferPreproc',\n",
       " 'sentiment']"
      ]
     },
     "execution_count": 2,
     "metadata": {},
     "output_type": "execute_result"
    }
   ],
   "source": [
    "import pandas as pd\n",
    "tweets = pd.read_csv(\"C:/Users/pk/Desktop/projet/analyse/out_data/TweetIphone.csv\")\n",
    "list(tweets.columns.values)"
   ]
  },
  {
   "cell_type": "code",
   "execution_count": 3,
   "metadata": {},
   "outputs": [
    {
     "data": {
      "text/html": [
       "<div>\n",
       "<style scoped>\n",
       "    .dataframe tbody tr th:only-of-type {\n",
       "        vertical-align: middle;\n",
       "    }\n",
       "\n",
       "    .dataframe tbody tr th {\n",
       "        vertical-align: top;\n",
       "    }\n",
       "\n",
       "    .dataframe thead th {\n",
       "        text-align: right;\n",
       "    }\n",
       "</style>\n",
       "<table border=\"1\" class=\"dataframe\">\n",
       "  <thead>\n",
       "    <tr style=\"text-align: right;\">\n",
       "      <th></th>\n",
       "      <th>Unnamed: 0</th>\n",
       "      <th>date</th>\n",
       "      <th>text</th>\n",
       "      <th>Comment</th>\n",
       "      <th>Word_Tok</th>\n",
       "      <th>CommentAferPreproc</th>\n",
       "      <th>sentiment</th>\n",
       "    </tr>\n",
       "  </thead>\n",
       "  <tbody>\n",
       "    <tr>\n",
       "      <td>0</td>\n",
       "      <td>0</td>\n",
       "      <td>2021-04-01 23:59:32</td>\n",
       "      <td>b\"RT @_PLICE: \\xf0\\x9f\\xa4\\xa3\\xf0\\x9f\\xa4\\xa3...</td>\n",
       "      <td>b\"rt @_plice: \\xf0\\x9f\\xa4\\xa3\\xf0\\x9f\\xa4\\xa3...</td>\n",
       "      <td>['b', 'rt', '_plice', 'xf0', 'x9f', 'xa4', 'xa...</td>\n",
       "      <td>b rt _plice xf0 x9f xa4 xa3 xf0 x9f xa4 xa3 xf...</td>\n",
       "      <td>Neutral</td>\n",
       "    </tr>\n",
       "    <tr>\n",
       "      <td>1</td>\n",
       "      <td>1</td>\n",
       "      <td>2021-04-01 23:59:32</td>\n",
       "      <td>b'RT @twinkologian: sza the type to say she go...</td>\n",
       "      <td>b'rt @twinkologian: sza the type to say she go...</td>\n",
       "      <td>['b', 'rt', 'twinkologian', 'sza', 'the', 'typ...</td>\n",
       "      <td>b rt twinkologian sza type say got iphone 15 x...</td>\n",
       "      <td>Neutral</td>\n",
       "    </tr>\n",
       "    <tr>\n",
       "      <td>2</td>\n",
       "      <td>2</td>\n",
       "      <td>2021-04-01 23:59:29</td>\n",
       "      <td>b'Check out this product from the Apple Store:...</td>\n",
       "      <td>b'check out this product from the apple store:...</td>\n",
       "      <td>['b', 'check', 'out', 'this', 'product', 'from...</td>\n",
       "      <td>b check product apple store n nhttps co xozusg...</td>\n",
       "      <td>Neutral</td>\n",
       "    </tr>\n",
       "    <tr>\n",
       "      <td>3</td>\n",
       "      <td>3</td>\n",
       "      <td>2021-04-01 23:59:28</td>\n",
       "      <td>b'I\\xe2\\x80\\x99ve had a great birthday so far!...</td>\n",
       "      <td>b'i\\xe2\\x80\\x99ve had a great birthday so far!...</td>\n",
       "      <td>['b', 'i', 'xe2', 'x80', 'x99ve', 'had', 'a', ...</td>\n",
       "      <td>b xe2 x80 x99ve great birthday far mom delicio...</td>\n",
       "      <td>Positive</td>\n",
       "    </tr>\n",
       "    <tr>\n",
       "      <td>4</td>\n",
       "      <td>4</td>\n",
       "      <td>2021-04-01 23:59:21</td>\n",
       "      <td>b'I go on vacation for the first time in well ...</td>\n",
       "      <td>b'i go on vacation for the first time in well ...</td>\n",
       "      <td>['b', 'i', 'go', 'on', 'vacation', 'for', 'the...</td>\n",
       "      <td>b go vacation first time well year think would...</td>\n",
       "      <td>Positive</td>\n",
       "    </tr>\n",
       "  </tbody>\n",
       "</table>\n",
       "</div>"
      ],
      "text/plain": [
       "   Unnamed: 0                 date  \\\n",
       "0           0  2021-04-01 23:59:32   \n",
       "1           1  2021-04-01 23:59:32   \n",
       "2           2  2021-04-01 23:59:29   \n",
       "3           3  2021-04-01 23:59:28   \n",
       "4           4  2021-04-01 23:59:21   \n",
       "\n",
       "                                                text  \\\n",
       "0  b\"RT @_PLICE: \\xf0\\x9f\\xa4\\xa3\\xf0\\x9f\\xa4\\xa3...   \n",
       "1  b'RT @twinkologian: sza the type to say she go...   \n",
       "2  b'Check out this product from the Apple Store:...   \n",
       "3  b'I\\xe2\\x80\\x99ve had a great birthday so far!...   \n",
       "4  b'I go on vacation for the first time in well ...   \n",
       "\n",
       "                                             Comment  \\\n",
       "0  b\"rt @_plice: \\xf0\\x9f\\xa4\\xa3\\xf0\\x9f\\xa4\\xa3...   \n",
       "1  b'rt @twinkologian: sza the type to say she go...   \n",
       "2  b'check out this product from the apple store:...   \n",
       "3  b'i\\xe2\\x80\\x99ve had a great birthday so far!...   \n",
       "4  b'i go on vacation for the first time in well ...   \n",
       "\n",
       "                                            Word_Tok  \\\n",
       "0  ['b', 'rt', '_plice', 'xf0', 'x9f', 'xa4', 'xa...   \n",
       "1  ['b', 'rt', 'twinkologian', 'sza', 'the', 'typ...   \n",
       "2  ['b', 'check', 'out', 'this', 'product', 'from...   \n",
       "3  ['b', 'i', 'xe2', 'x80', 'x99ve', 'had', 'a', ...   \n",
       "4  ['b', 'i', 'go', 'on', 'vacation', 'for', 'the...   \n",
       "\n",
       "                                  CommentAferPreproc sentiment  \n",
       "0  b rt _plice xf0 x9f xa4 xa3 xf0 x9f xa4 xa3 xf...   Neutral  \n",
       "1  b rt twinkologian sza type say got iphone 15 x...   Neutral  \n",
       "2  b check product apple store n nhttps co xozusg...   Neutral  \n",
       "3  b xe2 x80 x99ve great birthday far mom delicio...  Positive  \n",
       "4  b go vacation first time well year think would...  Positive  "
      ]
     },
     "execution_count": 3,
     "metadata": {},
     "output_type": "execute_result"
    }
   ],
   "source": [
    "tweets.head()"
   ]
  },
  {
   "cell_type": "code",
   "execution_count": 6,
   "metadata": {},
   "outputs": [
    {
     "name": "stdout",
     "output_type": "stream",
     "text": [
      "Neutral     4981\n",
      "Positive    3479\n",
      "Negative    1771\n",
      "Name: sentiment, dtype: int64\n"
     ]
    }
   ],
   "source": [
    "sentiment_counts = tweets.sentiment.value_counts()\n",
    "print(sentiment_counts)"
   ]
  },
  {
   "cell_type": "code",
   "execution_count": 7,
   "metadata": {},
   "outputs": [],
   "source": [
    "import numpy as np\n",
    "from scipy.sparse import hstack\n",
    "from sklearn.feature_extraction.text import CountVectorizer\n",
    "count_vectorizer = CountVectorizer(ngram_range=(1,2))"
   ]
  },
  {
   "cell_type": "code",
   "execution_count": 8,
   "metadata": {},
   "outputs": [],
   "source": [
    "vectorized_data = count_vectorizer.fit_transform(tweets.text)\n",
    "indexed_data = hstack((np.array(range(0,vectorized_data.shape[0]))[:,None], vectorized_data))"
   ]
  },
  {
   "cell_type": "code",
   "execution_count": 10,
   "metadata": {},
   "outputs": [],
   "source": [
    "def sentiment2target(sentiment):\n",
    "    return {\n",
    "        'Negative': 0,\n",
    "        'Neutral': 1,\n",
    "        'Positive' : 2\n",
    "    }[sentiment]\n",
    "targets = tweets.sentiment.apply(sentiment2target)"
   ]
  },
  {
   "cell_type": "code",
   "execution_count": 11,
   "metadata": {},
   "outputs": [],
   "source": [
    "from sklearn.model_selection import train_test_split\n",
    "data_train, data_test, targets_train, targets_test = train_test_split(indexed_data, targets, test_size=0.4, random_state=0)\n",
    "data_train_index = data_train[:,0]\n",
    "data_train = data_train[:,1:]\n",
    "data_test_index = data_test[:,0]\n",
    "data_test = data_test[:,1:]"
   ]
  },
  {
   "cell_type": "markdown",
   "metadata": {},
   "source": [
    "# Model SVM"
   ]
  },
  {
   "cell_type": "code",
   "execution_count": 12,
   "metadata": {},
   "outputs": [],
   "source": [
    "from sklearn import svm\n",
    "from sklearn.multiclass import OneVsRestClassifier\n",
    "clf = OneVsRestClassifier(svm.SVC(gamma=0.01, C=100., probability=True, class_weight='balanced', kernel='linear'))\n",
    "clf_output = clf.fit(data_train, targets_train)"
   ]
  },
  {
   "cell_type": "code",
   "execution_count": 37,
   "metadata": {},
   "outputs": [
    {
     "name": "stdout",
     "output_type": "stream",
     "text": [
      "94.01%\n"
     ]
    }
   ],
   "source": [
    "clf.score(data_test, targets_test)\n",
    "pre=clf.predict(data_test)\n",
    "acc=metrics.accuracy_score(pre, targets_test)\n",
    "print(str(\"{:04.2f}\".format(acc*100))+'%')"
   ]
  },
  {
   "cell_type": "markdown",
   "metadata": {},
   "source": [
    "# Model Naive bayes"
   ]
  },
  {
   "cell_type": "code",
   "execution_count": 34,
   "metadata": {},
   "outputs": [
    {
     "name": "stdout",
     "output_type": "stream",
     "text": [
      "89.76%\n"
     ]
    }
   ],
   "source": [
    "from sklearn import metrics\n",
    "from sklearn.naive_bayes import MultinomialNB\n",
    "mnb=MultinomialNB()\n",
    "mnb.fit(data_train,targets_train)\n",
    "preticted=mnb.predict(data_test)\n",
    "accuracy=metrics.accuracy_score(preticted, targets_test)\n",
    "print(str(\"{:04.2f}\".format(accuracy*100))+'%')"
   ]
  },
  {
   "cell_type": "markdown",
   "metadata": {},
   "source": [
    "# Model Decision Tree"
   ]
  },
  {
   "cell_type": "code",
   "execution_count": 39,
   "metadata": {},
   "outputs": [
    {
     "name": "stdout",
     "output_type": "stream",
     "text": [
      "91.69%\n"
     ]
    }
   ],
   "source": [
    "from sklearn.tree import DecisionTreeClassifier\n",
    "dt=DecisionTreeClassifier()\n",
    "dt.fit(data_train,targets_train)\n",
    "preticted3=dt.predict(data_test)\n",
    "accuracy3=metrics.accuracy_score(preticted3, targets_test)\n",
    "print(str(\"{:04.2f}\".format(accuracy3*100))+'%')"
   ]
  },
  {
   "cell_type": "markdown",
   "metadata": {},
   "source": [
    "# Model Random Forest"
   ]
  },
  {
   "cell_type": "code",
   "execution_count": 40,
   "metadata": {},
   "outputs": [
    {
     "name": "stdout",
     "output_type": "stream",
     "text": [
      "91.13%\n"
     ]
    }
   ],
   "source": [
    "from sklearn.ensemble import RandomForestClassifier\n",
    "rf=RandomForestClassifier(n_estimators=40)\n",
    "rf.fit(data_train,targets_train)\n",
    "preticted4=rf.predict(data_test)\n",
    "accuracy4=metrics.accuracy_score(preticted4, targets_test)\n",
    "print(str(\"{:04.2f}\".format(accuracy4*100))+'%')"
   ]
  },
  {
   "cell_type": "code",
   "execution_count": 14,
   "metadata": {},
   "outputs": [
    {
     "data": {
      "text/plain": [
       "array([[0.04790416, 0.71567989, 0.23641595],\n",
       "       [0.13169614, 0.3951206 , 0.47318325],\n",
       "       [0.13127747, 0.75188759, 0.11683494],\n",
       "       [0.10335529, 0.82922565, 0.06741906],\n",
       "       [0.08847515, 0.87467354, 0.03685132],\n",
       "       [0.03907321, 0.91226962, 0.04865717],\n",
       "       [0.02520723, 0.94355046, 0.03124231]])"
      ]
     },
     "execution_count": 14,
     "metadata": {},
     "output_type": "execute_result"
    }
   ],
   "source": [
    "sentences = count_vectorizer.transform([\n",
    "    \"What a great airline, the trip was a pleasure!\",\n",
    "    \"My issue was quickly resolved after calling customer support. Thanks!\",\n",
    "    \"What the hell! My flight was cancelled again. This sucks!\",\n",
    "    \"Service was awful. I'll never fly with you again.\",\n",
    "    \"You fuckers lost my luggage. Never again!\",\n",
    "    \"I have mixed feelings about airlines. I don't know what I think.\",\n",
    "    \"\"\n",
    "])\n",
    "clf.predict_proba(sentences)"
   ]
  },
  {
   "cell_type": "code",
   "execution_count": 15,
   "metadata": {},
   "outputs": [],
   "source": [
    "predictions_on_test_data = clf.predict_proba(data_test)\n",
    "index = np.transpose(np.array([range(0,len(predictions_on_test_data))]))\n",
    "indexed_predictions = np.concatenate((predictions_on_test_data, index), axis=1).tolist()"
   ]
  },
  {
   "cell_type": "code",
   "execution_count": 16,
   "metadata": {},
   "outputs": [
    {
     "data": {
      "text/plain": [
       "[\"b'Wow! Get this Plastic Car Charger for iPhone for only $ \\\\nhttps://t.co/1nffYuJExF\\\\n.\\\\n.\\\\nFor more visit ForteSpy Produc\\\\xe2\\\\x80\\\\xa6 https://t.co/tgVmTK7c5Z'\",\n",
       " \"b'and they either do it very low quality, glasses and hoodie on, using photobooth/iphone or use their filming equipme\\\\xe2\\\\x80\\\\xa6 https://t.co/91CzJQOnnL'\",\n",
       " \"b'@TeslaStars @iphone_robm I threw up in my mouth a little from this tweet... https://t.co/HJBZXRGPQR'\",\n",
       " \"b'@SUNHL28 Oh oh sorry my iPhone is little slow and it didn\\\\xe2\\\\x80\\\\x99t load the header, love it and still soft'\",\n",
       " \"b'A new unidentified dynamic portrait of #iPhone user #cyberart https://t.co/TWMRbz4eIN'\",\n",
       " \"b'Ain\\\\xe2\\\\x80\\\\x99t no difference with this iPhone 12 &amp; my iPhone 11.'\",\n",
       " \"b'RT @iSpyphotographs: Hello #htlmphour This is my first time here #iSpy with my little ... camera! An iPhone view of life - beaches, houses,\\\\xe2\\\\x80\\\\xa6'\",\n",
       " \"b'@bing will bing wallpaper be available on   iphone?'\",\n",
       " \"b'i wish i never lost my adapter to my iphone in the 8th grade halls \\\\xf0\\\\x9f\\\\x98\\\\x91'\",\n",
       " \"b'i wish i never lost my adapter to my iphone in the 8th grade halls \\\\xf0\\\\x9f\\\\x98\\\\x91'\"]"
      ]
     },
     "execution_count": 16,
     "metadata": {},
     "output_type": "execute_result"
    }
   ],
   "source": [
    "def marginal(p):\n",
    "    top2 = p.argsort()[::-1]\n",
    "    return abs(p[top2[0]]-p[top2[1]])\n",
    "margin = sorted(list(map(lambda p : [marginal(np.array(p[0:3])),p[3]], indexed_predictions)), key=lambda p : p[0])\n",
    "list(map(lambda p : tweets.iloc[data_test_index[int(p[1])].toarray()[0][0]].text, margin[0:10]))"
   ]
  },
  {
   "cell_type": "code",
   "execution_count": 17,
   "metadata": {},
   "outputs": [
    {
     "data": {
      "text/plain": [
       "[array([0.01028585, 0.49486333, 0.49485083]),\n",
       " array([0.0197658 , 0.48829803, 0.49193617]),\n",
       " array([0.28036641, 0.36195573, 0.35767786]),\n",
       " array([5.02719820e-01, 5.28740084e-05, 4.97227306e-01]),\n",
       " array([0.50421808, 0.00071697, 0.49506496]),\n",
       " array([0.49495698, 0.48514733, 0.01989568]),\n",
       " array([0.50305281, 0.00396434, 0.49298285]),\n",
       " array([0.00610284, 0.50305354, 0.49084362]),\n",
       " array([0.4282397 , 0.44153867, 0.13022162]),\n",
       " array([0.4282397 , 0.44153867, 0.13022162])]"
      ]
     },
     "execution_count": 17,
     "metadata": {},
     "output_type": "execute_result"
    }
   ],
   "source": [
    "list(map(lambda p : predictions_on_test_data[int(p[1])], margin[0:10]))"
   ]
  },
  {
   "cell_type": "code",
   "execution_count": 18,
   "metadata": {},
   "outputs": [
    {
     "data": {
      "text/plain": [
       "[\"b'Which recycled tweet do I hit first \\\\xe2\\\\x80\\\\x9cApple Music should be free if you have an iPhone\\\\xe2\\\\x80\\\\x9d or \\\\xe2\\\\x80\\\\x9cApples best tweet was th\\\\xe2\\\\x80\\\\xa6 https://t.co/2ehiKL5po3'\",\n",
       " \"b'Got a IPhone 12 at a pretty good price from my job , giving it a try . The phone feels good , i like that IOS 14 le\\\\xe2\\\\x80\\\\xa6 https://t.co/K96PdUoJol'\",\n",
       " \"b'Wow! iPhone Prank Assistant. New iOS Update 14.4.3 \\\\xe2\\\\x9d\\\\xa4\\\\xef\\\\xb8\\\\x8f @apple @mix93fm #Wow #PrankAssistant #New #BuiltIn #Download\\\\xe2\\\\x80\\\\xa6 https://t.co/Mg1LJ3edBM'\",\n",
       " \"b'RT @aboki_gadgets: Brand New iPhones\\\\nPrice update on brand new phones\\\\niPhone 11 64gb - N315,000\\\\niPhone 11 128gb - N340,000\\\\niPhone 11 Pro 64\\\\xe2\\\\x80\\\\xa6'\",\n",
       " \"b'I love the new iPhone 12 Pro Max , Enjoying it rn a lot , Thanks @YouTube for the money \\\\xe2\\\\x9d\\\\xa4\\\\xef\\\\xb8\\\\x8f'\",\n",
       " \"b'RT @Phone_Stores: Please Dont Skip Without Retweeting \\\\xf0\\\\x9f\\\\x99\\\\x8f\\\\xf0\\\\x9f\\\\x99\\\\x8f\\\\n\\\\nBRAND NEW IPHONE XS max 270k\\\\nBRAND NEW IPHONE X 64GB  185k\\\\nBRAND NEW IPHONE 11 29\\\\xe2\\\\x80\\\\xa6'\",\n",
       " \"b'RT @Phone_Stores: Please Dont Skip Without Retweeting \\\\xf0\\\\x9f\\\\x99\\\\x8f\\\\xf0\\\\x9f\\\\x99\\\\x8f\\\\n\\\\nBRAND NEW IPHONE XS max 270k\\\\nBRAND NEW IPHONE X 64GB  185k\\\\nBRAND NEW IPHONE 11 29\\\\xe2\\\\x80\\\\xa6'\",\n",
       " \"b'RT @Phone_Stores: Please Dont Skip Without Retweeting \\\\xf0\\\\x9f\\\\x99\\\\x8f\\\\xf0\\\\x9f\\\\x99\\\\x8f\\\\n\\\\nBRAND NEW IPHONE XS max 270k\\\\nBRAND NEW IPHONE X 64GB  185k\\\\nBRAND NEW IPHONE 11 29\\\\xe2\\\\x80\\\\xa6'\",\n",
       " \"b'RT @_VALKlNG: Pick one\\\\xf0\\\\x9f\\\\xa5\\\\xb4\\\\n\\\\n-A brand new ps5, \\\\n-A brand new iPhone 12\\\\n-A brand new Samsung A21'\",\n",
       " \"b'@nt_soaress advinha ???? android x iphone \\\\xf0\\\\x9f\\\\xa4\\\\xa3\\\\xf0\\\\x9f\\\\xa4\\\\xa3\\\\xf0\\\\x9f\\\\xa4\\\\xa3\\\\xf0\\\\x9f\\\\xa4\\\\xa3\\\\xf0\\\\x9f\\\\xa4\\\\xa3\\\\xf0\\\\x9f\\\\xa4\\\\xa3\\\\xf0\\\\x9f\\\\xa4\\\\xa3\\\\xf0\\\\x9f\\\\xa4\\\\xa3\\\\xf0\\\\x9f\\\\xa4\\\\xa3\\\\xf0\\\\x9f\\\\xa4\\\\xa3\\\\xf0\\\\x9f\\\\xa4\\\\xa3\\\\xf0\\\\x9f\\\\xa4\\\\xa3\\\\xf0\\\\x9f\\\\xa4\\\\xa3\\\\xf0\\\\x9f\\\\xa4\\\\xa3\\\\xf0\\\\x9f\\\\xa4\\\\xa3\\\\xf0\\\\x9f\\\\xa4\\\\xa3\\\\xf0\\\\x9f\\\\xa4\\\\xa3\\\\xf0\\\\x9f\\\\xa4\\\\xa3\\\\xf0\\\\x9f\\\\xa4\\\\xa3\\\\xf0\\\\x9f\\\\xa4\\\\xa3\\\\xf0\\\\x9f\\\\xa4\\\\xa3\\\\xf0\\\\x9f\\\\xa4\\\\xa3\\\\xf0\\\\x9f\\\\xa4\\\\xa3\\\\xf0\\\\x9f\\\\xa4\\\\xa3\\\\xf0\\\\x9f\\\\xa4\\\\xa3\\\\xf0\\\\x9f\\\\xa4\\\\xa3\\\\xf0\\\\x9f\\\\xa4\\\\xa3\\\\xf0\\\\x9f\\\\xa4\\\\xa3\\\\xf0\\\\x9f\\\\x99\\\\x88\\\\xf0\\\\x9f\\\\x99\\\\x88'\"]"
      ]
     },
     "execution_count": 18,
     "metadata": {},
     "output_type": "execute_result"
    }
   ],
   "source": [
    "list(map(lambda p : tweets.iloc[data_test_index[int(p[1])].toarray()[0][0]].text, margin[-10:]))"
   ]
  },
  {
   "cell_type": "code",
   "execution_count": 19,
   "metadata": {},
   "outputs": [
    {
     "data": {
      "text/plain": [
       "[array([1.31470472e-03, 1.35164321e-04, 9.98550131e-01]),\n",
       " array([8.62808406e-04, 4.94821180e-04, 9.98642370e-01]),\n",
       " array([9.39236525e-04, 1.51706386e-04, 9.98909057e-01]),\n",
       " array([3.18177657e-04, 7.43768307e-04, 9.98938054e-01]),\n",
       " array([6.20935117e-04, 1.19813453e-05, 9.99367084e-01]),\n",
       " array([2.11415808e-04, 3.64289611e-07, 9.99788220e-01]),\n",
       " array([2.11415808e-04, 3.64289611e-07, 9.99788220e-01]),\n",
       " array([2.11415808e-04, 3.64289611e-07, 9.99788220e-01]),\n",
       " array([6.22123292e-05, 2.52786851e-06, 9.99935260e-01]),\n",
       " array([9.99995918e-08, 9.99995818e-01, 4.08184366e-06])]"
      ]
     },
     "execution_count": 19,
     "metadata": {},
     "output_type": "execute_result"
    }
   ],
   "source": [
    "list(map(lambda p : predictions_on_test_data[int(p[1])], margin[-10:]))"
   ]
  },
  {
   "cell_type": "code",
   "execution_count": 24,
   "metadata": {},
   "outputs": [
    {
     "data": {
      "image/png": "[encoded data removed]",
      "text/plain": [
       "<Figure size 432x288 with 1 Axes>"
      ]
     },
     "metadata": {
      "needs_background": "light"
     },
     "output_type": "display_data"
    }
   ],
   "source": [
    "import matplotlib.pyplot as plt\n",
    "marginal_probs = list(map(lambda p : p[0], margin))\n",
    "n, bins, patches = plt.hist(marginal_probs, 25, facecolor='blue', alpha=0.75)\n",
    "plt.title('Marginal confidence histogram - All data')\n",
    "plt.ylabel('Count')\n",
    "plt.xlabel('Marginal confidence')\n",
    "plt.show()"
   ]
  },
  {
   "cell_type": "code",
   "execution_count": 21,
   "metadata": {},
   "outputs": [
    {
     "data": {
      "image/png": "[encoded data removed]",
      "text/plain": [
       "<Figure size 432x288 with 1 Axes>"
      ]
     },
     "metadata": {
      "needs_background": "light"
     },
     "output_type": "display_data"
    }
   ],
   "source": [
    "positive_test_data = list(filter(lambda row : row[0]==2, hstack((targets_test[:,None], data_test)).toarray()))\n",
    "positive_probs = clf.predict_proba(list(map(lambda r : r[1:], positive_test_data)))\n",
    "marginal_positive_probs = list(map(lambda p : marginal(p), positive_probs))\n",
    "n, bins, patches = plt.hist(marginal_positive_probs, 25, facecolor='green', alpha=0.75)\n",
    "plt.title('Marginal confidence histogram - Positive data')\n",
    "plt.ylabel('Count')\n",
    "plt.xlabel('Marginal confidence')\n",
    "plt.show()"
   ]
  },
  {
   "cell_type": "code",
   "execution_count": 22,
   "metadata": {},
   "outputs": [
    {
     "data": {
      "image/png": "[encoded data removed]",
      "text/plain": [
       "<Figure size 432x288 with 1 Axes>"
      ]
     },
     "metadata": {
      "needs_background": "light"
     },
     "output_type": "display_data"
    }
   ],
   "source": [
    "positive_test_data = list(filter(lambda row : row[0]==1, hstack((targets_test[:,None], data_test)).toarray()))\n",
    "positive_probs = clf.predict_proba(list(map(lambda r : r[1:], positive_test_data)))\n",
    "marginal_positive_probs = list(map(lambda p : marginal(p), positive_probs))\n",
    "n, bins, patches = plt.hist(marginal_positive_probs, 25, facecolor='blue', alpha=0.75)\n",
    "plt.title('Marginal confidence histogram - Neutral data')\n",
    "plt.ylabel('Count')\n",
    "plt.xlabel('Marginal confidence')\n",
    "plt.show()"
   ]
  },
  {
   "cell_type": "code",
   "execution_count": 23,
   "metadata": {},
   "outputs": [
    {
     "data": {
      "image/png": "[encoded data removed]",
      "text/plain": [
       "<Figure size 432x288 with 1 Axes>"
      ]
     },
     "metadata": {
      "needs_background": "light"
     },
     "output_type": "display_data"
    }
   ],
   "source": [
    "negative_test_data = list(filter(lambda row : row[0]==0, hstack((targets_test[:,None], data_test)).toarray()))\n",
    "negative_probs = clf.predict_proba(list(map(lambda r : r[1:], negative_test_data)))\n",
    "marginal_negative_probs = list(map(lambda p : marginal(p), negative_probs))\n",
    "n, bins, patches = plt.hist(marginal_negative_probs, 25, facecolor='red', alpha=0.75)\n",
    "plt.title('Marginal confidence histogram - Negative data')\n",
    "plt.ylabel('Count')\n",
    "plt.xlabel('Marginal confidence')\n",
    "plt.show()"
   ]
  },
  {
   "cell_type": "code",
   "execution_count": null,
   "metadata": {},
   "outputs": [],
   "source": []
  }
 ],
 "metadata": {
  "kernelspec": {
   "display_name": "Python 3",
   "language": "python",
   "name": "python3"
  },
  "language_info": {
   "codemirror_mode": {
    "name": "ipython",
    "version": 3
   },
   "file_extension": ".py",
   "mimetype": "text/x-python",
   "name": "python",
   "nbconvert_exporter": "python",
   "pygments_lexer": "ipython3",
   "version": "3.7.4"
  }
 },
 "nbformat": 4,
 "nbformat_minor": 2
}
