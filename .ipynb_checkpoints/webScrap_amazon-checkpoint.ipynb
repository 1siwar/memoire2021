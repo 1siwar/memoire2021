{
 "cells": [
  {
   "cell_type": "code",
   "execution_count": 13,
   "metadata": {},
   "outputs": [],
   "source": [
    "# -*- coding: utf-8 -*-\n",
    "\"\"\"\n",
    "Created on Wed Jul  4 13:07:54 2018\n",
    "\n",
    "@author: Tahrima \n",
    "\"\"\"\n",
    "\n",
    "from lxml import html  \n",
    "import requests\n",
    "import pandas as pd\n",
    "\n",
    "## Samsung Galaxy s9\n",
    "\n",
    "reviews_df_SGS9 = pd.DataFrame()\n",
    "#  https://www.amazon.com/Samsung-Galaxy-S9-Unlocked-Smartphone/product-reviews/B079H6RLKQ/ref=cm_cr_arp_d_viewopt_srt?ie=UTF8&reviewerType=all_reviews&pageNumber=1&sortBy=recent\n",
    "\n",
    "for i in range(1,38):\n",
    "\n",
    "    amazon_url = 'https://www.amazon.in/Samsung-Galaxy-Phantom-Violet-Storage/product-reviews/B08LRFPK9W/ref=cm_cr_dp_d_show_all_btm?ie=UTF8&reviewerType=all_reviews&pageNumber='+str(i)+'&sortBy=recent'\n",
    "    \n",
    "    user_agent = 'Mozilla/5.0 (Windows NT 10.0; Win64; x64) AppleWebKit/537.36 (KHTML, like Gecko) Chrome/67.0.3396.99 Safari/537.36'\n",
    "                              \n",
    "    headers = {'User-Agent': user_agent}\n",
    "    page = requests.get(amazon_url, headers = headers)\n",
    "    parser = html.fromstring(page.content)\n",
    "    \n",
    "    xpath_reviews = '//div[@data-hook=\"review\"]'\n",
    "    reviews = parser.xpath(xpath_reviews)   \n",
    "    xpath_body    = './/span[@data-hook=\"review-body\"]//text()'\n",
    "    body = parser.xpath(xpath_body)\n",
    " \n",
    "    for review in reviews:\n",
    "        body    = review.xpath(xpath_body)\n",
    "        review_dict = {'body': body}\n",
    "        reviews_df_SGS9 = reviews_df_SGS9.append(review_dict, ignore_index=True)\n",
    "\n",
    "reviews_df_SGS9\n",
    "\n",
    "# append to csv \n",
    "reviews_df_SGS9.to_csv(r'C:/Users/pk/Desktop/projet/analyse/data/amazon1.txt', header=None, index=None, sep=' ', mode='a') \n",
    "\n",
    "\n"
   ]
  },
  {
   "cell_type": "code",
   "execution_count": null,
   "metadata": {},
   "outputs": [],
   "source": []
  },
  {
   "cell_type": "code",
   "execution_count": null,
   "metadata": {},
   "outputs": [],
   "source": []
  },
  {
   "cell_type": "code",
   "execution_count": null,
   "metadata": {},
   "outputs": [],
   "source": []
  },
  {
   "cell_type": "code",
   "execution_count": null,
   "metadata": {},
   "outputs": [],
   "source": []
  }
 ],
 "metadata": {
  "kernelspec": {
   "display_name": "Python 3",
   "language": "python",
   "name": "python3"
  },
  "language_info": {
   "codemirror_mode": {
    "name": "ipython",
    "version": 3
   },
   "file_extension": ".py",
   "mimetype": "text/x-python",
   "name": "python",
   "nbconvert_exporter": "python",
   "pygments_lexer": "ipython3",
   "version": "3.7.4"
  }
 },
 "nbformat": 4,
 "nbformat_minor": 2
}
